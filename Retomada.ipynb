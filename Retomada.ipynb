{
 "cells": [
  {
   "cell_type": "code",
   "execution_count": 1,
   "metadata": {},
   "outputs": [
    {
     "name": "stderr",
     "output_type": "stream",
     "text": [
      "C:\\Users\\Rodrigo Valentim\\Anaconda3\\lib\\site-packages\\h5py\\__init__.py:36: FutureWarning: Conversion of the second argument of issubdtype from `float` to `np.floating` is deprecated. In future, it will be treated as `np.float64 == np.dtype(float).type`.\n",
      "  from ._conv import register_converters as _register_converters\n",
      "Using TensorFlow backend.\n"
     ]
    }
   ],
   "source": [
    "from keras.preprocessing.image import ImageDataGenerator\n",
    "from keras.preprocessing import image\n",
    "from keras.models import Sequential\n",
    "from keras.layers import Conv2D, MaxPooling2D\n",
    "from keras.layers import Activation, Dropout, Flatten, Dense\n",
    "from keras import backend as K\n",
    "import matplotlib.pyplot as plt\n",
    "from matplotlib import ticker\n",
    "import seaborn as sns\n",
    "import numpy as np\n",
    "import os, cv2, random, glob\n",
    "import matplotlib.image as mpimg\n",
    "from keras.models import load_model\n",
    "from keras.callbacks import ModelCheckpoint, CSVLogger \n",
    "%matplotlib inline "
   ]
  },
  {
   "cell_type": "markdown",
   "metadata": {},
   "source": [
    "# Treinamento teste para uma pequena quantidade de imagens"
   ]
  },
  {
   "cell_type": "code",
   "execution_count": 2,
   "metadata": {},
   "outputs": [],
   "source": [
    "img_width, img_height = 150, 150\n",
    "train_data_dir = 'data/train'\n",
    "validation_data_dir = 'data/validation'\n",
    "test_data_dir = 'data/teste'\n",
    "\n",
    "nb_validation_samples = 800\n",
    "nb_train_samples = 23700\n",
    "epochs = 50\n",
    "batch_size = 16\n",
    "\n",
    "\n",
    "def deep():\n",
    "\n",
    "    if K.image_data_format() == 'channels_first':\n",
    "        input_shape = (3, img_width, img_height)\n",
    "    else:\n",
    "        input_shape = (img_width, img_height, 3)  \n",
    "  \n",
    "    model = Sequential()\n",
    "    model.add(Conv2D(32,(3, 3), input_shape=input_shape))\n",
    "    model.add(Activation('relu'))\n",
    "    model.add(MaxPooling2D(pool_size=(2, 2)))\n",
    "    \n",
    "\n",
    "    model.add(Conv2D(32, (3, 3)))\n",
    "    model.add(Activation('relu'))\n",
    "    model.add(MaxPooling2D(pool_size=(2, 2)))\n",
    "\n",
    "    model.add(Conv2D(64, (3, 3)))\n",
    "    model.add(Activation('relu'))\n",
    "    model.add(MaxPooling2D(pool_size=(2, 2)))\n",
    "    \n",
    "    model.add(Conv2D(64, (3, 3)))\n",
    "    model.add(Activation('relu'))\n",
    "    model.add(MaxPooling2D(pool_size=(2, 2)))\n",
    "\n",
    "    model.add(Flatten())\n",
    "    model.add(Dense(64))\n",
    "    model.add(Activation('relu'))\n",
    "\n",
    "    model.add(Dropout(0.5))\n",
    "    model.add(Dense(1))\n",
    "    model.add(Activation('sigmoid'))\n",
    "    return model"
   ]
  },
  {
   "cell_type": "code",
   "execution_count": 3,
   "metadata": {},
   "outputs": [
    {
     "name": "stdout",
     "output_type": "stream",
     "text": [
      "Found 23700 images belonging to 2 classes.\n",
      "Found 400 images belonging to 2 classes.\n"
     ]
    }
   ],
   "source": [
    "train_datagen = ImageDataGenerator(\n",
    "    rescale=1. / 255,\n",
    "    shear_range=0.2,\n",
    "    zoom_range=0.2,\n",
    "    horizontal_flip=True)\n",
    "test_datagen = ImageDataGenerator(rescale=1. / 255)\n",
    "\n",
    "train_generator = train_datagen.flow_from_directory(\n",
    "        'data/train',  # this is the target directory\n",
    "        target_size=(150, 150),  # all images will be resized to 150x150\n",
    "        batch_size=batch_size,\n",
    "        class_mode='binary') \n",
    "\n",
    "validation_generator = test_datagen.flow_from_directory(\n",
    "    validation_data_dir,\n",
    "    target_size=(img_width, img_height),\n",
    "    batch_size=batch_size,\n",
    "    class_mode='binary')\n",
    "\n"
   ]
  },
  {
   "cell_type": "code",
   "execution_count": 4,
   "metadata": {},
   "outputs": [
    {
     "name": "stdout",
     "output_type": "stream",
     "text": [
      "Epoch 2/30\n",
      "1481/1481 [==============================] - 1119s 756ms/step - loss: 0.4829 - acc: 0.7772 - val_loss: 0.3268 - val_acc: 0.8525\n",
      "Epoch 3/30\n",
      "1481/1481 [==============================] - 1007s 680ms/step - loss: 0.4428 - acc: 0.8017 - val_loss: 0.4246 - val_acc: 0.8125\n",
      "Epoch 4/30\n",
      "1481/1481 [==============================] - 1000s 675ms/step - loss: 0.4272 - acc: 0.8107 - val_loss: 0.3275 - val_acc: 0.8625\n",
      "Epoch 5/30\n",
      "1481/1481 [==============================] - 1013s 684ms/step - loss: 0.4136 - acc: 0.8238 - val_loss: 0.3443 - val_acc: 0.8650\n",
      "Epoch 6/30\n",
      "1481/1481 [==============================] - 1006s 679ms/step - loss: 0.4011 - acc: 0.8317 - val_loss: 0.2724 - val_acc: 0.8900\n",
      "Epoch 7/30\n",
      "1481/1481 [==============================] - 1000s 675ms/step - loss: 0.3928 - acc: 0.8380 - val_loss: 0.3026 - val_acc: 0.8650\n",
      "Epoch 8/30\n",
      "1481/1481 [==============================] - 1007s 680ms/step - loss: 0.3896 - acc: 0.8398 - val_loss: 0.3109 - val_acc: 0.8600\n",
      "Epoch 9/30\n",
      "1481/1481 [==============================] - 1009s 681ms/step - loss: 0.3957 - acc: 0.8372 - val_loss: 0.2916 - val_acc: 0.8675\n",
      "Epoch 10/30\n",
      "1481/1481 [==============================] - 1004s 678ms/step - loss: 0.3933 - acc: 0.8387 - val_loss: 0.3308 - val_acc: 0.8800\n",
      "Epoch 11/30\n",
      "1481/1481 [==============================] - 1005s 679ms/step - loss: 0.4028 - acc: 0.8380 - val_loss: 0.2789 - val_acc: 0.9075\n",
      "Epoch 12/30\n",
      "1481/1481 [==============================] - 1000s 675ms/step - loss: 0.3921 - acc: 0.8415 - val_loss: 0.2747 - val_acc: 0.8925\n",
      "Epoch 13/30\n",
      "1481/1481 [==============================] - 1006s 679ms/step - loss: 0.4057 - acc: 0.8359 - val_loss: 0.2621 - val_acc: 0.8925\n",
      "Epoch 14/30\n",
      "1481/1481 [==============================] - 1005s 679ms/step - loss: 0.4254 - acc: 0.8316 - val_loss: 0.2904 - val_acc: 0.8900\n",
      "Epoch 15/30\n",
      "1481/1481 [==============================] - 1006s 680ms/step - loss: 0.4476 - acc: 0.8226 - val_loss: 0.3401 - val_acc: 0.8700\n",
      "Epoch 16/30\n",
      "1481/1481 [==============================] - 999s 675ms/step - loss: 0.4600 - acc: 0.8244 - val_loss: 0.3601 - val_acc: 0.8875\n",
      "Epoch 17/30\n",
      "1481/1481 [==============================] - 1000s 675ms/step - loss: 0.5042 - acc: 0.8074 - val_loss: 0.4062 - val_acc: 0.8625\n",
      "Epoch 18/30\n",
      "1481/1481 [==============================] - 1002s 677ms/step - loss: 0.5505 - acc: 0.7966 - val_loss: 0.3872 - val_acc: 0.8350\n",
      "Epoch 19/30\n",
      "1481/1481 [==============================] - 999s 674ms/step - loss: 0.5379 - acc: 0.7942 - val_loss: 0.4304 - val_acc: 0.8650\n",
      "Epoch 20/30\n",
      "1481/1481 [==============================] - 1010s 682ms/step - loss: 0.7014 - acc: 0.7801 - val_loss: 0.3680 - val_acc: 0.8325\n",
      "Epoch 21/30\n",
      "1481/1481 [==============================] - 1034s 698ms/step - loss: 0.6743 - acc: 0.7650 - val_loss: 0.4182 - val_acc: 0.8350\n",
      "Epoch 22/30\n",
      "1481/1481 [==============================] - 997s 673ms/step - loss: 0.6077 - acc: 0.7607 - val_loss: 0.6238 - val_acc: 0.8550\n",
      "Epoch 23/30\n",
      "1481/1481 [==============================] - 982s 663ms/step - loss: 0.6269 - acc: 0.7563 - val_loss: 0.4491 - val_acc: 0.8075\n",
      "Epoch 24/30\n",
      "1481/1481 [==============================] - 990s 668ms/step - loss: 0.6203 - acc: 0.7413 - val_loss: 0.4632 - val_acc: 0.8275\n",
      "Epoch 25/30\n",
      "1481/1481 [==============================] - 993s 670ms/step - loss: 2.1384 - acc: 0.6942 - val_loss: 0.4779 - val_acc: 0.7825\n",
      "Epoch 26/30\n",
      "1481/1481 [==============================] - 983s 664ms/step - loss: 0.6536 - acc: 0.7334 - val_loss: 0.4222 - val_acc: 0.8225\n",
      "Epoch 27/30\n",
      "1481/1481 [==============================] - 992s 670ms/step - loss: 0.6417 - acc: 0.7374 - val_loss: 0.5113 - val_acc: 0.8025\n",
      "Epoch 28/30\n",
      "1481/1481 [==============================] - 1010s 682ms/step - loss: 0.7685 - acc: 0.7156 - val_loss: 0.6241 - val_acc: 0.8575\n",
      "Epoch 29/30\n",
      "1481/1481 [==============================] - 1018s 688ms/step - loss: 0.6781 - acc: 0.7232 - val_loss: 0.4071 - val_acc: 0.8225\n",
      "Epoch 30/30\n",
      "1481/1481 [==============================] - 1006s 679ms/step - loss: 3.9524 - acc: 0.6228 - val_loss: 8.0590 - val_acc: 0.5000\n"
     ]
    }
   ],
   "source": [
    "model = deep()\n",
    "epoch_num = 1 \n",
    "outputFolder = ''\n",
    "file_ini = outputFolder+'weights-improvement-01-0.73.hdf5'\n",
    "filename =  glob.glob(file_ini)\n",
    "\n",
    "model.load_weights(file_ini)\n",
    "model.compile(loss='binary_crossentropy',\n",
    "              optimizer='rmsprop',\n",
    "              metrics=['accuracy'])\n",
    "outputFolder = ''\n",
    "\n",
    "callbacks = ModelCheckpoint(\"weights-improvement-{epoch:02d}-{acc:.2f}.hdf5\", monitor='acc', verbose=0, save_best_only=False,\n",
    "                                save_weights_only=False, mode='auto', period=1)\n",
    "callbacks_list = [callbacks]\n",
    "\n",
    "history = model.fit_generator(\n",
    "    train_generator,\n",
    "    steps_per_epoch=nb_train_samples // batch_size,\n",
    "    epochs=30,\n",
    "    callbacks = callbacks_list, initial_epoch = epoch_num,\n",
    "    validation_data=validation_generator,\n",
    "    validation_steps=nb_validation_samples // batch_size\n",
    "\n",
    ");"
   ]
  },
  {
   "cell_type": "markdown",
   "metadata": {},
   "source": [
    "# Métricas Acurácia e Log loss para rede de teste"
   ]
  },
  {
   "cell_type": "code",
   "execution_count": 5,
   "metadata": {},
   "outputs": [
    {
     "data": {
      "image/png": "[encoded data removed]",
      "text/plain": [
       "<matplotlib.figure.Figure at 0x4f4a799518>"
      ]
     },
     "metadata": {},
     "output_type": "display_data"
    }
   ],
   "source": [
    "plt.plot(history.history['acc'])\n",
    "plt.title('Acurácia da rede de teste')\n",
    "plt.ylabel('Acurácia')\n",
    "plt.xlabel('Épocas')\n",
    "plt.legend(['treino'], loc='upper left')\n",
    "plt.show()"
   ]
  },
  {
   "cell_type": "code",
   "execution_count": 6,
   "metadata": {},
   "outputs": [
    {
     "data": {
      "image/png": "[encoded data removed]",
      "text/plain": [
       "<matplotlib.figure.Figure at 0x4f4f42bbe0>"
      ]
     },
     "metadata": {},
     "output_type": "display_data"
    }
   ],
   "source": [
    "plt.plot(history.history['loss'])\n",
    "plt.title('Log loss')\n",
    "plt.ylabel('loss')\n",
    "plt.xlabel('Épocas')\n",
    "plt.legend(['Treino'], loc='upper left')\n",
    "plt.show()"
   ]
  },
  {
   "cell_type": "code",
   "execution_count": 1,
   "metadata": {},
   "outputs": [],
   "source": [
    "def load_image(img_path, show=False):\n",
    "\n",
    "    img = image.load_img(img_path, target_size=(150, 150))\n",
    "    img_tensor = image.img_to_array(img)                   \n",
    "    img_tensor = np.expand_dims(img_tensor, axis=0)        \n",
    "    if show:\n",
    "        plt.imshow(img_tensor[0])                           \n",
    "        plt.axis('off')\n",
    "        plt.show()\n",
    "\n",
    "    return img_tensor"
   ]
  },
  {
   "cell_type": "code",
   "execution_count": null,
   "metadata": {},
   "outputs": [],
   "source": [
    "test_images =  [train_data_dir+\"/dogs/\"+i for i in os.listdir(train_data_dir+\"/dogs\")]"
   ]
  }
 ],
 "metadata": {
  "kernelspec": {
   "display_name": "Python 3",
   "language": "python",
   "name": "python3"
  },
  "language_info": {
   "codemirror_mode": {
    "name": "ipython",
    "version": 3
   },
   "file_extension": ".py",
   "mimetype": "text/x-python",
   "name": "python",
   "nbconvert_exporter": "python",
   "pygments_lexer": "ipython3",
   "version": "3.6.4"
  }
 },
 "nbformat": 4,
 "nbformat_minor": 2
}
